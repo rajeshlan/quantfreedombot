{
  "cells": [
    {
      "cell_type": "code",
      "execution_count": null,
      "metadata": {},
      "outputs": [],
      "source": [
        "import numpy as np\n",
        "\n",
        "from strat import RSIRisingFalling\n",
        "\n",
        "from quantfreedom.enums import *\n",
        "from quantfreedom.helper_funcs import dl_ex_candles\n",
        "from quantfreedom.simulate import run_df_backtest, or_backtest\n",
        "\n",
        "\n",
        "np.set_printoptions(formatter={\"float_kind\": \"{:0.2f}\".format})\n",
        "\n",
        "%load_ext autoreload\n",
        "%autoreload 2"
      ]
    },
    {
      "cell_type": "code",
      "execution_count": null,
      "metadata": {},
      "outputs": [],
      "source": [
        "candles = dl_ex_candles(\n",
        "    exchange=\"mufex\",\n",
        "    symbol=\"BTCUSDT\",\n",
        "    timeframe=\"1h\",\n",
        "    candles_to_dl=3000,\n",
        ")"
      ]
    },
    {
      "cell_type": "code",
      "execution_count": null,
      "metadata": {},
      "outputs": [],
      "source": [
        "short_strat = RSIRisingFalling(\n",
        "    long_short=\"short\",\n",
        "    rsi_length=np.array([14]),\n",
        "    rsi_is_above=np.arange(50, 76, 5),\n",
        ")\n",
        "short_strat.set_entries_exits_array(\n",
        "    candles=candles,\n",
        "    ind_set_index=0,\n",
        ")\n",
        "short_strat.plot_signals(candles=candles)"
      ]
    },
    {
      "cell_type": "code",
      "execution_count": null,
      "metadata": {},
      "outputs": [],
      "source": [
        "long_strat = RSIRisingFalling(\n",
        "    long_short=\"long\",\n",
        "    rsi_length=np.array([14]),\n",
        "    rsi_is_below=np.arange(35, 61, 5),\n",
        ")\n",
        "long_strat.set_entries_exits_array(\n",
        "    candles=candles,\n",
        "    ind_set_index=2,\n",
        ")\n",
        "long_strat.plot_signals(candles=candles)"
      ]
    },
    {
      "cell_type": "code",
      "execution_count": null,
      "metadata": {},
      "outputs": [],
      "source": [
        "backtest_settings = BacktestSettings()\n",
        "\n",
        "exchange_settings = ExchangeSettings(\n",
        "    asset_tick_step=3,\n",
        "    leverage_mode=1,\n",
        "    leverage_tick_step=2,\n",
        "    limit_fee_pct=0.0003,\n",
        "    market_fee_pct=0.0006,\n",
        "    max_asset_size=100.0,\n",
        "    max_leverage=150.0,\n",
        "    min_asset_size=0.001,\n",
        "    min_leverage=1.0,\n",
        "    mmr_pct=0.004,\n",
        "    position_mode=3,\n",
        "    price_tick_step=1,\n",
        ")\n",
        "\n",
        "static_os = StaticOrderSettings(\n",
        "    increase_position_type=IncreasePositionType.RiskPctAccountEntrySize,\n",
        "    leverage_strategy_type=LeverageStrategyType.Dynamic,\n",
        "    pg_min_max_sl_bcb=\"min\",\n",
        "    sl_strategy_type=StopLossStrategyType.SLBasedOnCandleBody,\n",
        "    sl_to_be_bool=False,\n",
        "    starting_bar=50,\n",
        "    starting_equity=1000.0,\n",
        "    static_leverage=None,\n",
        "    tp_fee_type=\"limit\",\n",
        "    tp_strategy_type=TakeProfitStrategyType.RiskReward,\n",
        "    trail_sl_bool=True,\n",
        "    z_or_e_type=None,\n",
        ")\n",
        "\n",
        "dos_arrays = DynamicOrderSettingsArrays(\n",
        "    max_equity_risk_pct=np.array([12]),\n",
        "    max_trades=np.array([0]),\n",
        "    risk_account_pct_size=np.array([3]),\n",
        "    risk_reward=np.array([2, 5]),\n",
        "    sl_based_on_add_pct=np.array([0.1, 0.25, 0.5]),\n",
        "    sl_based_on_lookback=np.array([20, 50]),\n",
        "    sl_bcb_type=np.array([CandleBodyType.Low]),\n",
        "    sl_to_be_cb_type=np.array([CandleBodyType.Nothing]),\n",
        "    sl_to_be_when_pct=np.array([0]),\n",
        "    trail_sl_bcb_type=np.array([CandleBodyType.Low]),\n",
        "    trail_sl_by_pct=np.array([0.5, 1.0]),\n",
        "    trail_sl_when_pct=np.array([1, 2]),\n",
        ")"
      ]
    },
    {
      "cell_type": "code",
      "execution_count": null,
      "metadata": {},
      "outputs": [],
      "source": [
        "backtest_results = run_df_backtest(\n",
        "    backtest_settings=backtest_settings,\n",
        "    candles=candles,\n",
        "    dos_arrays=dos_arrays,\n",
        "    exchange_settings=exchange_settings,\n",
        "    static_os=static_os,\n",
        "    strategy=long_strat,\n",
        ")"
      ]
    },
    {
      "cell_type": "code",
      "execution_count": null,
      "metadata": {},
      "outputs": [],
      "source": [
        "backtest_results.sort_values(by=[\"qf_score\"], ascending=False).head(10)"
      ]
    }
  ],
  "metadata": {
    "kernelspec": {
      "display_name": "qfFree",
      "language": "python",
      "name": "python3"
    },
    "language_info": {
      "codemirror_mode": {
        "name": "ipython",
        "version": 3
      },
      "file_extension": ".py",
      "mimetype": "text/x-python",
      "name": "python",
      "nbconvert_exporter": "python",
      "pygments_lexer": "ipython3",
      "version": "3.10.10"
    },
    "orig_nbformat": 4
  },
  "nbformat": 4,
  "nbformat_minor": 2
}
