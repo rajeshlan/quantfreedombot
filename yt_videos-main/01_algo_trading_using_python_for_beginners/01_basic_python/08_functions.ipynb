{
 "cells": [
  {
   "cell_type": "markdown",
   "metadata": {},
   "source": [
    "Functions\n",
    "\n",
    "learn more - https://www.w3schools.com/python/python_functions.asp"
   ]
  },
  {
   "cell_type": "code",
   "execution_count": 1,
   "metadata": {},
   "outputs": [],
   "source": [
    "def my_function():\n",
    "  print(\"Hello from a function\")"
   ]
  },
  {
   "cell_type": "code",
   "execution_count": 2,
   "metadata": {},
   "outputs": [
    {
     "name": "stdout",
     "output_type": "stream",
     "text": [
      "Hello from a function\n"
     ]
    }
   ],
   "source": [
    "my_function()"
   ]
  },
  {
   "cell_type": "code",
   "execution_count": 3,
   "metadata": {},
   "outputs": [
    {
     "name": "stdout",
     "output_type": "stream",
     "text": [
      "Mike Smith\n",
      "John Smith\n",
      "Lilly Smith\n"
     ]
    }
   ],
   "source": [
    "def my_function(\n",
    "    fname,\n",
    "):\n",
    "    print(fname + \" Smith\")\n",
    "\n",
    "\n",
    "my_function(\"Mike\")\n",
    "my_function(\"John\")\n",
    "my_function(\"Lilly\")"
   ]
  },
  {
   "cell_type": "code",
   "execution_count": 4,
   "metadata": {},
   "outputs": [
    {
     "name": "stdout",
     "output_type": "stream",
     "text": [
      "Mike Smith\n",
      "Daisy Johnson\n"
     ]
    }
   ],
   "source": [
    "def my_function(\n",
    "    fname,\n",
    "    lname,\n",
    "):\n",
    "    print(fname + \" \" + lname)\n",
    "\n",
    "\n",
    "my_function(\n",
    "    \"Mike\",\n",
    "    \"Smith\",\n",
    ")\n",
    "my_function(\n",
    "    fname=\"Daisy\",\n",
    "    lname=\"Johnson\",\n",
    ")"
   ]
  },
  {
   "cell_type": "code",
   "execution_count": 5,
   "metadata": {},
   "outputs": [
    {
     "name": "stdout",
     "output_type": "stream",
     "text": [
      "I am from Sweden\n",
      "I am from India\n",
      "I am from Norway\n",
      "I am from Brazil\n"
     ]
    }
   ],
   "source": [
    "def my_function(country=\"Norway\"):\n",
    "    print(\"I am from \" + country)\n",
    "\n",
    "\n",
    "my_function(\"Sweden\")\n",
    "my_function(\"India\")\n",
    "my_function()\n",
    "my_function(\"Brazil\")"
   ]
  },
  {
   "cell_type": "code",
   "execution_count": 6,
   "metadata": {},
   "outputs": [
    {
     "name": "stdout",
     "output_type": "stream",
     "text": [
      "15\n"
     ]
    }
   ],
   "source": [
    "def my_function(x):\n",
    "    return 5 * x\n",
    "\n",
    "\n",
    "print(my_function(3))"
   ]
  },
  {
   "cell_type": "code",
   "execution_count": 7,
   "metadata": {},
   "outputs": [
    {
     "name": "stdout",
     "output_type": "stream",
     "text": [
      "25\n"
     ]
    }
   ],
   "source": [
    "x = my_function(5)\n",
    "print(x)"
   ]
  }
 ],
 "metadata": {
  "kernelspec": {
   "display_name": "qfstrat",
   "language": "python",
   "name": "python3"
  },
  "language_info": {
   "codemirror_mode": {
    "name": "ipython",
    "version": 3
   },
   "file_extension": ".py",
   "mimetype": "text/x-python",
   "name": "python",
   "nbconvert_exporter": "python",
   "pygments_lexer": "ipython3",
   "version": "3.10.10"
  },
  "vscode": {
   "interpreter": {
    "hash": "03f86d89e27fb2cb48ee86aa392c9c47abfaabf5ffd539402411f06531b0b8f2"
   }
  }
 },
 "nbformat": 4,
 "nbformat_minor": 2
}
