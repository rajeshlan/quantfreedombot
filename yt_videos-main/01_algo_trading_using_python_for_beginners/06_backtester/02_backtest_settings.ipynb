{
 "cells": [
  {
   "cell_type": "code",
   "execution_count": 1,
   "metadata": {},
   "outputs": [],
   "source": [
    "from quantfreedom.enums import BacktestSettings\n",
    "from quantfreedom.utils import pretty_qf\n",
    "\n",
    "%load_ext autoreload\n",
    "%autoreload 2"
   ]
  },
  {
   "cell_type": "code",
   "execution_count": 2,
   "metadata": {},
   "outputs": [
    {
     "name": "stdout",
     "output_type": "stream",
     "text": [
      "BacktestSettings(\n",
      "    gains_pct_filter = -inf,\n",
      "    qf_filter = -inf,\n",
      "    total_trade_filter = -1,\n",
      "    record_size = 10000,\n",
      ")\n"
     ]
    }
   ],
   "source": [
    "pretty_qf(\n",
    "    BacktestSettings(),\n",
    ")"
   ]
  },
  {
   "cell_type": "code",
   "execution_count": 3,
   "metadata": {},
   "outputs": [
    {
     "name": "stdout",
     "output_type": "stream",
     "text": [
      "BacktestSettings(\n",
      "    gains_pct_filter = 10,\n",
      "    qf_filter = 0.5,\n",
      "    total_trade_filter = 10,\n",
      "    record_size = 500,\n",
      ")\n"
     ]
    }
   ],
   "source": [
    "pretty_qf(\n",
    "    named_tuple=BacktestSettings(\n",
    "        gains_pct_filter=10,\n",
    "        qf_filter=0.5,\n",
    "        total_trade_filter=10,\n",
    "        record_size=500,\n",
    "    ),\n",
    ")"
   ]
  }
 ],
 "metadata": {
  "kernelspec": {
   "display_name": "qfree",
   "language": "python",
   "name": "python3"
  },
  "language_info": {
   "codemirror_mode": {
    "name": "ipython",
    "version": 3
   },
   "file_extension": ".py",
   "mimetype": "text/x-python",
   "name": "python",
   "nbconvert_exporter": "python",
   "pygments_lexer": "ipython3",
   "version": "3.10.10"
  }
 },
 "nbformat": 4,
 "nbformat_minor": 2
}
