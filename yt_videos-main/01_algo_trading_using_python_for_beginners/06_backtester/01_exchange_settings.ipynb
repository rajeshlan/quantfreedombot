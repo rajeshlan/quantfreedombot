{
 "cells": [
  {
   "cell_type": "code",
   "execution_count": 54,
   "metadata": {},
   "outputs": [
    {
     "name": "stdout",
     "output_type": "stream",
     "text": [
      "The autoreload extension is already loaded. To reload it, use:\n",
      "  %reload_ext autoreload\n"
     ]
    }
   ],
   "source": [
    "from my_stuff import MufexKeys\n",
    "from quantfreedom.exchanges.mufex_exchange.mufex import Mufex\n",
    "from quantfreedom.enums import PositionModeType, LeverageModeType, ExchangeSettings\n",
    "from quantfreedom.utils import pretty_qf\n",
    "\n",
    "%load_ext autoreload\n",
    "%autoreload 2"
   ]
  },
  {
   "cell_type": "code",
   "execution_count": 55,
   "metadata": {},
   "outputs": [],
   "source": [
    "mufex_main = Mufex(\n",
    "    api_key=mufexkeys.api_key,\n",
    "    secret_key=mufexkeys.secret_key,\n",
    "    use_test_net=False,\n",
    ")"
   ]
  },
  {
   "cell_type": "code",
   "execution_count": 56,
   "metadata": {},
   "outputs": [
    {
     "ename": "Exception",
     "evalue": "Mufex: set_position_mode= invalid request, please check your server timestamp or recv_window param. req_timestamp[1704729030290],server_timestamp[1704729056133],recv_window[5000] -> ",
     "output_type": "error",
     "traceback": [
      "\u001b[1;31m---------------------------------------------------------------------------\u001b[0m",
      "\u001b[1;31mException\u001b[0m                                 Traceback (most recent call last)",
      "File \u001b[1;32mf:\\trading\\myenv\\lib\\site-packages\\quantfreedom\\exchanges\\mufex_exchange\\mufex.py:693\u001b[0m, in \u001b[0;36mMufex.set_position_mode\u001b[1;34m(self, position_mode, trading_with, symbol)\u001b[0m\n\u001b[0;32m    692\u001b[0m     \u001b[38;5;28;01melse\u001b[39;00m:\n\u001b[1;32m--> 693\u001b[0m         \u001b[38;5;28;01mraise\u001b[39;00m \u001b[38;5;167;01mException\u001b[39;00m\n\u001b[0;32m    694\u001b[0m \u001b[38;5;28;01mexcept\u001b[39;00m \u001b[38;5;167;01mException\u001b[39;00m \u001b[38;5;28;01mas\u001b[39;00m e:\n",
      "\u001b[1;31mException\u001b[0m: ",
      "\nDuring handling of the above exception, another exception occurred:\n",
      "\u001b[1;31mException\u001b[0m                                 Traceback (most recent call last)",
      "Cell \u001b[1;32mIn[56], line 1\u001b[0m\n\u001b[1;32m----> 1\u001b[0m \u001b[43mmufex_main\u001b[49m\u001b[38;5;241;43m.\u001b[39;49m\u001b[43mset_exchange_settings\u001b[49m\u001b[43m(\u001b[49m\n\u001b[0;32m      2\u001b[0m \u001b[43m    \u001b[49m\u001b[43msymbol\u001b[49m\u001b[38;5;241;43m=\u001b[39;49m\u001b[38;5;124;43m\"\u001b[39;49m\u001b[38;5;124;43mBTCUSDT\u001b[39;49m\u001b[38;5;124;43m\"\u001b[39;49m\u001b[43m,\u001b[49m\n\u001b[0;32m      3\u001b[0m \u001b[43m    \u001b[49m\u001b[43mposition_mode\u001b[49m\u001b[38;5;241;43m=\u001b[39;49m\u001b[43mPositionModeType\u001b[49m\u001b[38;5;241;43m.\u001b[39;49m\u001b[43mHedgeMode\u001b[49m\u001b[43m,\u001b[49m\n\u001b[0;32m      4\u001b[0m \u001b[43m    \u001b[49m\u001b[43mleverage_mode\u001b[49m\u001b[38;5;241;43m=\u001b[39;49m\u001b[43mLeverageModeType\u001b[49m\u001b[38;5;241;43m.\u001b[39;49m\u001b[43mIsolated\u001b[49m\u001b[43m,\u001b[49m\n\u001b[0;32m      5\u001b[0m \u001b[43m)\u001b[49m\n",
      "File \u001b[1;32mf:\\trading\\myenv\\lib\\site-packages\\quantfreedom\\exchanges\\mufex_exchange\\mufex.py:879\u001b[0m, in \u001b[0;36mMufex.set_exchange_settings\u001b[1;34m(self, leverage_mode, position_mode, symbol)\u001b[0m\n\u001b[0;32m    877\u001b[0m \u001b[38;5;28mself\u001b[39m\u001b[38;5;241m.\u001b[39mposition_mode \u001b[38;5;241m=\u001b[39m position_mode\n\u001b[0;32m    878\u001b[0m \u001b[38;5;28;01mif\u001b[39;00m position_mode \u001b[38;5;241m==\u001b[39m PositionModeType\u001b[38;5;241m.\u001b[39mHedgeMode:\n\u001b[1;32m--> 879\u001b[0m     \u001b[38;5;28;43mself\u001b[39;49m\u001b[38;5;241;43m.\u001b[39;49m\u001b[43mset_position_mode_as_hedge_mode\u001b[49m\u001b[43m(\u001b[49m\u001b[43msymbol\u001b[49m\u001b[38;5;241;43m=\u001b[39;49m\u001b[43msymbol\u001b[49m\u001b[43m)\u001b[49m\n\u001b[0;32m    880\u001b[0m \u001b[38;5;28;01melse\u001b[39;00m:\n\u001b[0;32m    881\u001b[0m     \u001b[38;5;28mself\u001b[39m\u001b[38;5;241m.\u001b[39mset_position_mode_as_one_way_mode(symbol\u001b[38;5;241m=\u001b[39msymbol)\n",
      "File \u001b[1;32mf:\\trading\\myenv\\lib\\site-packages\\quantfreedom\\exchanges\\mufex_exchange\\mufex.py:830\u001b[0m, in \u001b[0;36mMufex.set_position_mode_as_hedge_mode\u001b[1;34m(self, symbol)\u001b[0m\n\u001b[0;32m    826\u001b[0m \u001b[38;5;28;01mdef\u001b[39;00m \u001b[38;5;21mset_position_mode_as_hedge_mode\u001b[39m(\n\u001b[0;32m    827\u001b[0m     \u001b[38;5;28mself\u001b[39m,\n\u001b[0;32m    828\u001b[0m     symbol: \u001b[38;5;28mstr\u001b[39m,\n\u001b[0;32m    829\u001b[0m ):\n\u001b[1;32m--> 830\u001b[0m     true_false \u001b[38;5;241m=\u001b[39m \u001b[38;5;28;43mself\u001b[39;49m\u001b[38;5;241;43m.\u001b[39;49m\u001b[43mset_position_mode\u001b[49m\u001b[43m(\u001b[49m\u001b[43msymbol\u001b[49m\u001b[38;5;241;43m=\u001b[39;49m\u001b[43msymbol\u001b[49m\u001b[43m,\u001b[49m\u001b[43m \u001b[49m\u001b[43mposition_mode\u001b[49m\u001b[38;5;241;43m=\u001b[39;49m\u001b[38;5;241;43m3\u001b[39;49m\u001b[43m)\u001b[49m\n\u001b[0;32m    832\u001b[0m     \u001b[38;5;28;01mreturn\u001b[39;00m true_false\n",
      "File \u001b[1;32mf:\\trading\\myenv\\lib\\site-packages\\quantfreedom\\exchanges\\mufex_exchange\\mufex.py:695\u001b[0m, in \u001b[0;36mMufex.set_position_mode\u001b[1;34m(self, position_mode, trading_with, symbol)\u001b[0m\n\u001b[0;32m    693\u001b[0m         \u001b[38;5;28;01mraise\u001b[39;00m \u001b[38;5;167;01mException\u001b[39;00m\n\u001b[0;32m    694\u001b[0m \u001b[38;5;28;01mexcept\u001b[39;00m \u001b[38;5;167;01mException\u001b[39;00m \u001b[38;5;28;01mas\u001b[39;00m e:\n\u001b[1;32m--> 695\u001b[0m     \u001b[38;5;28;01mraise\u001b[39;00m \u001b[38;5;167;01mException\u001b[39;00m(\u001b[38;5;124mf\u001b[39m\u001b[38;5;124m\"\u001b[39m\u001b[38;5;124mMufex: set_position_mode= \u001b[39m\u001b[38;5;132;01m{\u001b[39;00mresponse[\u001b[38;5;124m'\u001b[39m\u001b[38;5;124mmessage\u001b[39m\u001b[38;5;124m'\u001b[39m]\u001b[38;5;132;01m}\u001b[39;00m\u001b[38;5;124m -> \u001b[39m\u001b[38;5;132;01m{\u001b[39;00me\u001b[38;5;132;01m}\u001b[39;00m\u001b[38;5;124m\"\u001b[39m)\n",
      "\u001b[1;31mException\u001b[0m: Mufex: set_position_mode= invalid request, please check your server timestamp or recv_window param. req_timestamp[1704729030290],server_timestamp[1704729056133],recv_window[5000] -> "
     ]
    }
   ],
   "source": [
    "\n",
    "mufex_main.set_exchange_settings(\n",
    "    symbol=\"BTCUSDT\",\n",
    "    position_mode=PositionModeType.HedgeMode,\n",
    "    leverage_mode=LeverageModeType.Isolated,\n",
    ")\n",
    "\n",
    "\n"
   ]
  },
  {
   "cell_type": "code",
   "execution_count": null,
   "metadata": {},
   "outputs": [
    {
     "ename": "NameError",
     "evalue": "name 'pretty_qf' is not defined",
     "output_type": "error",
     "traceback": [
      "\u001b[1;31m---------------------------------------------------------------------------\u001b[0m",
      "\u001b[1;31mNameError\u001b[0m                                 Traceback (most recent call last)",
      "Cell \u001b[1;32mIn[48], line 1\u001b[0m\n\u001b[1;32m----> 1\u001b[0m \u001b[43mpretty_qf\u001b[49m(\n\u001b[0;32m      2\u001b[0m     named_tuple\u001b[38;5;241m=\u001b[39mmufex_main\u001b[38;5;241m.\u001b[39mexchange_settings,\n\u001b[0;32m      3\u001b[0m )\n",
      "\u001b[1;31mNameError\u001b[0m: name 'pretty_qf' is not defined"
     ]
    }
   ],
   "source": [
    "pretty_qf(\n",
    "    named_tuple=mufex_main.exchange_settings,\n",
    ")"
   ]
  },
  {
   "cell_type": "code",
   "execution_count": null,
   "metadata": {},
   "outputs": [
    {
     "ename": "NameError",
     "evalue": "name 'pretty_qf' is not defined",
     "output_type": "error",
     "traceback": [
      "\u001b[1;31m---------------------------------------------------------------------------\u001b[0m",
      "\u001b[1;31mNameError\u001b[0m                                 Traceback (most recent call last)",
      "Cell \u001b[1;32mIn[8], line 1\u001b[0m\n\u001b[1;32m----> 1\u001b[0m \u001b[43mpretty_qf\u001b[49m(\n\u001b[0;32m      2\u001b[0m     ExchangeSettings(\n\u001b[0;32m      3\u001b[0m         asset_tick_step\u001b[38;5;241m=\u001b[39m\u001b[38;5;241m3\u001b[39m,\n\u001b[0;32m      4\u001b[0m         leverage_mode\u001b[38;5;241m=\u001b[39mLeverageModeType\u001b[38;5;241m.\u001b[39mIsolated,\n\u001b[0;32m      5\u001b[0m         leverage_tick_step\u001b[38;5;241m=\u001b[39m\u001b[38;5;241m2\u001b[39m,\n\u001b[0;32m      6\u001b[0m         limit_fee_pct\u001b[38;5;241m=\u001b[39m\u001b[38;5;241m0.0003\u001b[39m,\n\u001b[0;32m      7\u001b[0m         market_fee_pct\u001b[38;5;241m=\u001b[39m\u001b[38;5;241m0.0006\u001b[39m,\n\u001b[0;32m      8\u001b[0m         max_asset_size\u001b[38;5;241m=\u001b[39m\u001b[38;5;241m100.0\u001b[39m,\n\u001b[0;32m      9\u001b[0m         max_leverage\u001b[38;5;241m=\u001b[39m\u001b[38;5;241m150.0\u001b[39m,\n\u001b[0;32m     10\u001b[0m         min_asset_size\u001b[38;5;241m=\u001b[39m\u001b[38;5;241m0.001\u001b[39m,\n\u001b[0;32m     11\u001b[0m         min_leverage\u001b[38;5;241m=\u001b[39m\u001b[38;5;241m1.0\u001b[39m,\n\u001b[0;32m     12\u001b[0m         mmr_pct\u001b[38;5;241m=\u001b[39m\u001b[38;5;241m0.004\u001b[39m,\n\u001b[0;32m     13\u001b[0m         position_mode\u001b[38;5;241m=\u001b[39mPositionModeType\u001b[38;5;241m.\u001b[39mHedgeMode,\n\u001b[0;32m     14\u001b[0m         price_tick_step\u001b[38;5;241m=\u001b[39m\u001b[38;5;241m1\u001b[39m,\n\u001b[0;32m     15\u001b[0m     )\n\u001b[0;32m     16\u001b[0m )\n",
      "\u001b[1;31mNameError\u001b[0m: name 'pretty_qf' is not defined"
     ]
    }
   ],
   "source": [
    "pretty_qf(\n",
    "    ExchangeSettings(\n",
    "        asset_tick_step=3,\n",
    "        leverage_mode=LeverageModeType.Isolated,\n",
    "        leverage_tick_step=2,\n",
    "        limit_fee_pct=0.0003,\n",
    "        market_fee_pct=0.0006,\n",
    "        max_asset_size=100.0,\n",
    "        max_leverage=150.0,\n",
    "        min_asset_size=0.001,\n",
    "        min_leverage=1.0,\n",
    "        mmr_pct=0.004,\n",
    "        position_mode=PositionModeType.HedgeMode,\n",
    "        price_tick_step=1,\n",
    "    )\n",
    ")"
   ]
  }
 ],
 "metadata": {
  "kernelspec": {
   "display_name": "qfree",
   "language": "python",
   "name": "python3"
  },
  "language_info": {
   "codemirror_mode": {
    "name": "ipython",
    "version": 3
   },
   "file_extension": ".py",
   "mimetype": "text/x-python",
   "name": "python",
   "nbconvert_exporter": "python",
   "pygments_lexer": "ipython3",
   "version": "3.10.10"
  }
 },
 "nbformat": 4,
 "nbformat_minor": 2
}
