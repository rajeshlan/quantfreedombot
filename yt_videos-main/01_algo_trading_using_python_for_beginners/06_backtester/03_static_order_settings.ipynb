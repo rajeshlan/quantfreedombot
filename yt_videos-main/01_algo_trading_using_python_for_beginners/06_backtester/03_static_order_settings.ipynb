{
 "cells": [
  {
   "cell_type": "code",
   "execution_count": 4,
   "metadata": {},
   "outputs": [
    {
     "name": "stdout",
     "output_type": "stream",
     "text": [
      "The autoreload extension is already loaded. To reload it, use:\n",
      "  %reload_ext autoreload\n"
     ]
    }
   ],
   "source": [
    "from quantfreedom.enums import StaticOrderSettings, IncreasePositionType,LeverageStrategyType,StopLossStrategyType,TakeProfitStrategyType\n",
    "from quantfreedom.utils import pretty_qf\n",
    "\n",
    "%load_ext autoreload\n",
    "%autoreload 2"
   ]
  },
  {
   "cell_type": "code",
   "execution_count": 6,
   "metadata": {},
   "outputs": [
    {
     "name": "stdout",
     "output_type": "stream",
     "text": [
      "StaticOrderSettings(\n",
      "    increase_position_type = 3,\n",
      "    leverage_strategy_type = 0,\n",
      "    pg_min_max_sl_bcb = min,\n",
      "    sl_strategy_type = 1,\n",
      "    sl_to_be_bool = False,\n",
      "    starting_bar = 50,\n",
      "    starting_equity = 1000.0,\n",
      "    static_leverage = None,\n",
      "    tp_fee_type = market,\n",
      "    tp_strategy_type = 1,\n",
      "    trail_sl_bool = True,\n",
      "    z_or_e_type = None,\n",
      ")\n"
     ]
    }
   ],
   "source": [
    "pretty_qf(\n",
    "    StaticOrderSettings(\n",
    "        increase_position_type=IncreasePositionType.RiskPctAccountEntrySize,\n",
    "        leverage_strategy_type=LeverageStrategyType.Dynamic,\n",
    "        pg_min_max_sl_bcb=\"min\",\n",
    "        sl_strategy_type=StopLossStrategyType.SLBasedOnCandleBody,\n",
    "        sl_to_be_bool=False,\n",
    "        starting_bar=50,\n",
    "        starting_equity=1000.0,\n",
    "        static_leverage=None,\n",
    "        tp_fee_type=\"market\",\n",
    "        tp_strategy_type=TakeProfitStrategyType.Provided,\n",
    "        trail_sl_bool=True,\n",
    "        z_or_e_type=None,\n",
    "    )\n",
    ")"
   ]
  }
 ],
 "metadata": {
  "kernelspec": {
   "display_name": "qfree",
   "language": "python",
   "name": "python3"
  },
  "language_info": {
   "codemirror_mode": {
    "name": "ipython",
    "version": 3
   },
   "file_extension": ".py",
   "mimetype": "text/x-python",
   "name": "python",
   "nbconvert_exporter": "python",
   "pygments_lexer": "ipython3",
   "version": "3.10.10"
  }
 },
 "nbformat": 4,
 "nbformat_minor": 2
}
