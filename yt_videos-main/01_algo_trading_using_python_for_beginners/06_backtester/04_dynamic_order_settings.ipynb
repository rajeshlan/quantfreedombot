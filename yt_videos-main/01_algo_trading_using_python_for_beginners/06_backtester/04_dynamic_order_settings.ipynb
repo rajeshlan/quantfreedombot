{
 "cells": [
  {
   "cell_type": "code",
   "execution_count": 1,
   "metadata": {},
   "outputs": [],
   "source": [
    "import numpy as np\n",
    "\n",
    "from quantfreedom.enums import DynamicOrderSettingsArrays, CandleBodyType\n",
    "from quantfreedom.utils import pretty_qf\n",
    "\n",
    "%load_ext autoreload\n",
    "%autoreload 2"
   ]
  },
  {
   "cell_type": "code",
   "execution_count": 2,
   "metadata": {},
   "outputs": [
    {
     "name": "stdout",
     "output_type": "stream",
     "text": [
      "DynamicOrderSettingsArrays(\n",
      "    max_equity_risk_pct = [12],\n",
      "    max_trades = [5],\n",
      "    risk_account_pct_size = [3],\n",
      "    risk_reward = [0],\n",
      "    sl_based_on_add_pct = [0.   0.05 0.1  0.15],\n",
      "    sl_based_on_lookback = [20 50],\n",
      "    sl_bcb_type = [3],\n",
      "    sl_to_be_cb_type = [6],\n",
      "    sl_to_be_when_pct = [0],\n",
      "    trail_sl_bcb_type = [3],\n",
      "    trail_sl_by_pct = [0.5],\n",
      "    trail_sl_when_pct = [1],\n",
      ")\n"
     ]
    }
   ],
   "source": [
    "pretty_qf(\n",
    "    DynamicOrderSettingsArrays(\n",
    "        max_equity_risk_pct=np.array([12]),\n",
    "        max_trades=np.array([5]),\n",
    "        risk_account_pct_size=np.array([3]),\n",
    "        risk_reward=np.array([0]),\n",
    "        sl_based_on_add_pct=np.array([0, 0.05, 0.1, 0.15]),\n",
    "        sl_based_on_lookback=np.array([20, 50]),\n",
    "        sl_bcb_type=np.array([CandleBodyType.Low]),\n",
    "        sl_to_be_cb_type=np.array([CandleBodyType.Nothing]),\n",
    "        sl_to_be_when_pct=np.array([0]),\n",
    "        trail_sl_bcb_type=np.array([CandleBodyType.Low]),\n",
    "        trail_sl_by_pct=np.array([0.5]),\n",
    "        trail_sl_when_pct=np.array([1]),\n",
    "    ),\n",
    ")"
   ]
  }
 ],
 "metadata": {
  "kernelspec": {
   "display_name": "qfree",
   "language": "python",
   "name": "python3"
  },
  "language_info": {
   "codemirror_mode": {
    "name": "ipython",
    "version": 3
   },
   "file_extension": ".py",
   "mimetype": "text/x-python",
   "name": "python",
   "nbconvert_exporter": "python",
   "pygments_lexer": "ipython3",
   "version": "3.10.10"
  }
 },
 "nbformat": 4,
 "nbformat_minor": 2
}
